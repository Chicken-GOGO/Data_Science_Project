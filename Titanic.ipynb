{
 "cells": [
  {
   "cell_type": "markdown",
   "id": "b095f7f1-7ef7-4816-bfc7-4d19b114f376",
   "metadata": {},
   "source": [
    "# Titanic\n",
    "[competition page](https://www.kaggle.com/competitions/titanic)  \n",
    "[doc exploring data](https://docs.google.com/document/d/1CxpLS1uon8uKZvQU-rl4i_zCWKkHpHSf6Nn1Xuet_gU/edit)    \n",
    "\n",
    "\n",
    "🎯Goal: Put Algo Spot check process in to practice\n",
    "\n",
    "📚Reference:  \n",
    "Machine Learning Mastery With Python by Jason Brownlee \n",
    "\n",
    "🕰️Time:  \n",
    "- 2022/07/26 , Score: 0.77511"
   ]
  },
  {
   "cell_type": "markdown",
   "id": "2f0d65d6-7083-434e-b9ea-fe97228f08fc",
   "metadata": {
    "tags": []
   },
   "source": [
    "# 1. Prepare Problem"
   ]
  },
  {
   "cell_type": "markdown",
   "id": "7de1d656-71cc-42fe-8bb7-981d54f0bddf",
   "metadata": {
    "tags": []
   },
   "source": [
    "## a) Load libraries"
   ]
  },
  {
   "cell_type": "code",
   "execution_count": 3,
   "id": "a80adc30-f270-4b42-94c1-a257b9a02703",
   "metadata": {},
   "outputs": [],
   "source": [
    "import pandas as pd\n",
    "import numpy as np\n",
    "import seaborn as sns\n",
    "import matplotlib.pyplot as plt\n",
    "from pandas.plotting import scatter_matrix\n",
    "from sklearn.metrics import accuracy_score\n",
    "from sklearn.preprocessing import StandardScaler\n",
    "from sklearn.model_selection import train_test_split\n",
    "from sklearn.model_selection import KFold\n",
    "from sklearn.model_selection import cross_val_score\n",
    "from sklearn.model_selection import GridSearchCV\n",
    "from sklearn.metrics import classification_report\n",
    "from sklearn.metrics import confusion_matrix\n",
    "from sklearn.pipeline import Pipeline\n",
    "from sklearn.linear_model import LogisticRegression\n",
    "from sklearn.tree import DecisionTreeClassifier\n",
    "from sklearn.neighbors import KNeighborsClassifier\n",
    "from sklearn.discriminant_analysis import LinearDiscriminantAnalysis\n",
    "from sklearn.naive_bayes import GaussianNB\n",
    "from sklearn.svm import SVC\n",
    "from sklearn.ensemble import AdaBoostClassifier\n",
    "from sklearn.ensemble import GradientBoostingClassifier\n",
    "from sklearn.ensemble import RandomForestClassifier\n",
    "from sklearn.ensemble import ExtraTreesClassifier"
   ]
  },
  {
   "cell_type": "markdown",
   "id": "3ad46b21-becf-453a-b341-f94be49ac792",
   "metadata": {},
   "source": [
    "## b) Load dataset"
   ]
  },
  {
   "cell_type": "code",
   "execution_count": 35,
   "id": "39c351ae-6215-4737-9081-8e85be6f3ed1",
   "metadata": {},
   "outputs": [],
   "source": [
    "raw_train = pd.read_csv('train.csv',index_col='PassengerId')\n",
    "raw_test = pd.read_csv('test.csv',index_col='PassengerId')"
   ]
  },
  {
   "cell_type": "markdown",
   "id": "fb519126-62cc-4b01-9984-d1e20f93f658",
   "metadata": {
    "tags": []
   },
   "source": [
    "# 2. Summarize Data"
   ]
  },
  {
   "cell_type": "markdown",
   "id": "b5184966-3191-4538-8970-2bd0871a5521",
   "metadata": {},
   "source": [
    "## a) Descriptive statistics  "
   ]
  },
  {
   "cell_type": "code",
   "execution_count": 36,
   "id": "de46d135-242f-4aa2-93c8-f87194e39ee3",
   "metadata": {},
   "outputs": [
    {
     "data": {
      "text/plain": [
       "(891, 11)"
      ]
     },
     "execution_count": 36,
     "metadata": {},
     "output_type": "execute_result"
    }
   ],
   "source": [
    "# shape\n",
    "raw_train.shape"
   ]
  },
  {
   "cell_type": "code",
   "execution_count": 37,
   "id": "91ed5c1a-5727-442d-b7c1-23686779c731",
   "metadata": {},
   "outputs": [
    {
     "data": {
      "text/plain": [
       "Survived      int64\n",
       "Pclass        int64\n",
       "Name         object\n",
       "Sex          object\n",
       "Age         float64\n",
       "SibSp         int64\n",
       "Parch         int64\n",
       "Ticket       object\n",
       "Fare        float64\n",
       "Cabin        object\n",
       "Embarked     object\n",
       "dtype: object"
      ]
     },
     "execution_count": 37,
     "metadata": {},
     "output_type": "execute_result"
    }
   ],
   "source": [
    "# types\n",
    "raw_train.dtypes"
   ]
  },
  {
   "cell_type": "code",
   "execution_count": null,
   "id": "a1f70f8e-d369-48b7-9a01-3c9fb1bc7528",
   "metadata": {},
   "outputs": [
    {
     "data": {
      "text/html": [
       "<div>\n",
       "<style scoped>\n",
       "    .dataframe tbody tr th:only-of-type {\n",
       "        vertical-align: middle;\n",
       "    }\n",
       "\n",
       "    .dataframe tbody tr th {\n",
       "        vertical-align: top;\n",
       "    }\n",
       "\n",
       "    .dataframe thead th {\n",
       "        text-align: right;\n",
       "    }\n",
       "</style>\n",
       "<table border=\"1\" class=\"dataframe\">\n",
       "  <thead>\n",
       "    <tr style=\"text-align: right;\">\n",
       "      <th></th>\n",
       "      <th>Survived</th>\n",
       "      <th>Pclass</th>\n",
       "      <th>Name</th>\n",
       "      <th>Sex</th>\n",
       "      <th>Age</th>\n",
       "      <th>SibSp</th>\n",
       "      <th>Parch</th>\n",
       "      <th>Ticket</th>\n",
       "      <th>Fare</th>\n",
       "      <th>Cabin</th>\n",
       "      <th>Embarked</th>\n",
       "    </tr>\n",
       "    <tr>\n",
       "      <th>PassengerId</th>\n",
       "      <th></th>\n",
       "      <th></th>\n",
       "      <th></th>\n",
       "      <th></th>\n",
       "      <th></th>\n",
       "      <th></th>\n",
       "      <th></th>\n",
       "      <th></th>\n",
       "      <th></th>\n",
       "      <th></th>\n",
       "      <th></th>\n",
       "    </tr>\n",
       "  </thead>\n",
       "  <tbody>\n",
       "    <tr>\n",
       "      <th>1</th>\n",
       "      <td>0</td>\n",
       "      <td>3</td>\n",
       "      <td>Braund, Mr. Owen Harris</td>\n",
       "      <td>male</td>\n",
       "      <td>22.0</td>\n",
       "      <td>1</td>\n",
       "      <td>0</td>\n",
       "      <td>A/5 21171</td>\n",
       "      <td>7.2500</td>\n",
       "      <td>NaN</td>\n",
       "      <td>S</td>\n",
       "    </tr>\n",
       "    <tr>\n",
       "      <th>2</th>\n",
       "      <td>1</td>\n",
       "      <td>1</td>\n",
       "      <td>Cumings, Mrs. John Bradley (Florence Briggs Th...</td>\n",
       "      <td>female</td>\n",
       "      <td>38.0</td>\n",
       "      <td>1</td>\n",
       "      <td>0</td>\n",
       "      <td>PC 17599</td>\n",
       "      <td>71.2833</td>\n",
       "      <td>C85</td>\n",
       "      <td>C</td>\n",
       "    </tr>\n",
       "    <tr>\n",
       "      <th>3</th>\n",
       "      <td>1</td>\n",
       "      <td>3</td>\n",
       "      <td>Heikkinen, Miss. Laina</td>\n",
       "      <td>female</td>\n",
       "      <td>26.0</td>\n",
       "      <td>0</td>\n",
       "      <td>0</td>\n",
       "      <td>STON/O2. 3101282</td>\n",
       "      <td>7.9250</td>\n",
       "      <td>NaN</td>\n",
       "      <td>S</td>\n",
       "    </tr>\n",
       "    <tr>\n",
       "      <th>4</th>\n",
       "      <td>1</td>\n",
       "      <td>1</td>\n",
       "      <td>Futrelle, Mrs. Jacques Heath (Lily May Peel)</td>\n",
       "      <td>female</td>\n",
       "      <td>35.0</td>\n",
       "      <td>1</td>\n",
       "      <td>0</td>\n",
       "      <td>113803</td>\n",
       "      <td>53.1000</td>\n",
       "      <td>C123</td>\n",
       "      <td>S</td>\n",
       "    </tr>\n",
       "    <tr>\n",
       "      <th>5</th>\n",
       "      <td>0</td>\n",
       "      <td>3</td>\n",
       "      <td>Allen, Mr. William Henry</td>\n",
       "      <td>male</td>\n",
       "      <td>35.0</td>\n",
       "      <td>0</td>\n",
       "      <td>0</td>\n",
       "      <td>373450</td>\n",
       "      <td>8.0500</td>\n",
       "      <td>NaN</td>\n",
       "      <td>S</td>\n",
       "    </tr>\n",
       "  </tbody>\n",
       "</table>\n",
       "</div>"
      ],
      "text/plain": [
       "             Survived  Pclass  \\\n",
       "PassengerId                     \n",
       "1                   0       3   \n",
       "2                   1       1   \n",
       "3                   1       3   \n",
       "4                   1       1   \n",
       "5                   0       3   \n",
       "\n",
       "                                                          Name     Sex   Age  \\\n",
       "PassengerId                                                                    \n",
       "1                                      Braund, Mr. Owen Harris    male  22.0   \n",
       "2            Cumings, Mrs. John Bradley (Florence Briggs Th...  female  38.0   \n",
       "3                                       Heikkinen, Miss. Laina  female  26.0   \n",
       "4                 Futrelle, Mrs. Jacques Heath (Lily May Peel)  female  35.0   \n",
       "5                                     Allen, Mr. William Henry    male  35.0   \n",
       "\n",
       "             SibSp  Parch            Ticket     Fare Cabin Embarked  \n",
       "PassengerId                                                          \n",
       "1                1      0         A/5 21171   7.2500   NaN        S  \n",
       "2                1      0          PC 17599  71.2833   C85        C  \n",
       "3                0      0  STON/O2. 3101282   7.9250   NaN        S  \n",
       "4                1      0            113803  53.1000  C123        S  \n",
       "5                0      0            373450   8.0500   NaN        S  "
      ]
     },
     "execution_count": 6,
     "metadata": {},
     "output_type": "execute_result"
    }
   ],
   "source": [
    "# head\n",
    "raw_train.head()"
   ]
  },
  {
   "cell_type": "code",
   "execution_count": null,
   "id": "7a14d6e8-c52d-48fe-a753-c9eead622bcd",
   "metadata": {},
   "outputs": [
    {
     "name": "stdout",
     "output_type": "stream",
     "text": [
      "         Survived      Pclass         Age       SibSp       Parch        Fare\n",
      "count  891.000000  891.000000  714.000000  891.000000  891.000000  891.000000\n",
      "mean     0.383838    2.308642   29.699118    0.523008    0.381594   32.204208\n",
      "std      0.486592    0.836071   14.526497    1.102743    0.806057   49.693429\n",
      "min      0.000000    1.000000    0.420000    0.000000    0.000000    0.000000\n",
      "25%      0.000000    2.000000   20.125000    0.000000    0.000000    7.910400\n",
      "50%      0.000000    3.000000   28.000000    0.000000    0.000000   14.454200\n",
      "75%      1.000000    3.000000   38.000000    1.000000    0.000000   31.000000\n",
      "max      1.000000    3.000000   80.000000    8.000000    6.000000  512.329200\n"
     ]
    }
   ],
   "source": [
    "# descriptions\n",
    "print(raw_train.describe())"
   ]
  },
  {
   "cell_type": "code",
   "execution_count": null,
   "id": "c296197e-330e-4508-a024-8cb2eaf2d516",
   "metadata": {},
   "outputs": [
    {
     "name": "stdout",
     "output_type": "stream",
     "text": [
      "Survived\n",
      "0    549\n",
      "1    342\n",
      "dtype: int64\n"
     ]
    }
   ],
   "source": [
    "# class distribution\n",
    "print(raw_train.groupby('Survived').size())"
   ]
  },
  {
   "cell_type": "markdown",
   "id": "c2774d85-b8c8-413a-8b14-c992ba13be9f",
   "metadata": {},
   "source": [
    "Idea:  \n",
    "Since class distribution is quite even. And both classes are important.  \n",
    "=> use accuracy as evaluation metric"
   ]
  },
  {
   "cell_type": "code",
   "execution_count": null,
   "id": "4049e5d2-abb0-4fd9-a9e7-16c9fee58dd5",
   "metadata": {},
   "outputs": [
    {
     "data": {
      "text/plain": [
       "Survived      0\n",
       "Pclass        0\n",
       "Name          0\n",
       "Sex           0\n",
       "Age         177\n",
       "SibSp         0\n",
       "Parch         0\n",
       "Ticket        0\n",
       "Fare          0\n",
       "Cabin       687\n",
       "Embarked      2\n",
       "dtype: int64"
      ]
     },
     "execution_count": 9,
     "metadata": {},
     "output_type": "execute_result"
    }
   ],
   "source": [
    "# null\n",
    "raw_train.isnull().sum()"
   ]
  },
  {
   "cell_type": "code",
   "execution_count": null,
   "id": "0ee6a3c5-7910-468e-9eda-9046e419582b",
   "metadata": {},
   "outputs": [
    {
     "data": {
      "text/plain": [
       "Name        891\n",
       "Sex           2\n",
       "Ticket      681\n",
       "Cabin       147\n",
       "Embarked      3\n",
       "dtype: int64"
      ]
     },
     "execution_count": 10,
     "metadata": {},
     "output_type": "execute_result"
    }
   ],
   "source": [
    "#unique for object cols\n",
    "raw_train.select_dtypes(include=['object']).nunique()"
   ]
  },
  {
   "cell_type": "code",
   "execution_count": null,
   "id": "f82398c5-5553-4da4-a714-cf22e810ef96",
   "metadata": {},
   "outputs": [
    {
     "data": {
      "text/plain": [
       "Survived      2\n",
       "Pclass        3\n",
       "Age          88\n",
       "SibSp         7\n",
       "Parch         7\n",
       "Fare        248\n",
       "dtype: int64"
      ]
     },
     "execution_count": 54,
     "metadata": {},
     "output_type": "execute_result"
    }
   ],
   "source": [
    "#unique for numerical cols\n",
    "raw_train.select_dtypes(exclude=['object']).nunique()"
   ]
  },
  {
   "cell_type": "code",
   "execution_count": null,
   "id": "cdc7ad2f-c1f0-4c96-8ef6-662986d48773",
   "metadata": {},
   "outputs": [
    {
     "data": {
      "text/html": [
       "<div>\n",
       "<style scoped>\n",
       "    .dataframe tbody tr th:only-of-type {\n",
       "        vertical-align: middle;\n",
       "    }\n",
       "\n",
       "    .dataframe tbody tr th {\n",
       "        vertical-align: top;\n",
       "    }\n",
       "\n",
       "    .dataframe thead th {\n",
       "        text-align: right;\n",
       "    }\n",
       "</style>\n",
       "<table border=\"1\" class=\"dataframe\">\n",
       "  <thead>\n",
       "    <tr style=\"text-align: right;\">\n",
       "      <th></th>\n",
       "      <th>Name</th>\n",
       "      <th>Ticket</th>\n",
       "      <th>Cabin</th>\n",
       "    </tr>\n",
       "    <tr>\n",
       "      <th>PassengerId</th>\n",
       "      <th></th>\n",
       "      <th></th>\n",
       "      <th></th>\n",
       "    </tr>\n",
       "  </thead>\n",
       "  <tbody>\n",
       "    <tr>\n",
       "      <th>1</th>\n",
       "      <td>Braund, Mr. Owen Harris</td>\n",
       "      <td>A/5 21171</td>\n",
       "      <td>NaN</td>\n",
       "    </tr>\n",
       "    <tr>\n",
       "      <th>2</th>\n",
       "      <td>Cumings, Mrs. John Bradley (Florence Briggs Th...</td>\n",
       "      <td>PC 17599</td>\n",
       "      <td>C85</td>\n",
       "    </tr>\n",
       "    <tr>\n",
       "      <th>3</th>\n",
       "      <td>Heikkinen, Miss. Laina</td>\n",
       "      <td>STON/O2. 3101282</td>\n",
       "      <td>NaN</td>\n",
       "    </tr>\n",
       "    <tr>\n",
       "      <th>4</th>\n",
       "      <td>Futrelle, Mrs. Jacques Heath (Lily May Peel)</td>\n",
       "      <td>113803</td>\n",
       "      <td>C123</td>\n",
       "    </tr>\n",
       "    <tr>\n",
       "      <th>5</th>\n",
       "      <td>Allen, Mr. William Henry</td>\n",
       "      <td>373450</td>\n",
       "      <td>NaN</td>\n",
       "    </tr>\n",
       "    <tr>\n",
       "      <th>...</th>\n",
       "      <td>...</td>\n",
       "      <td>...</td>\n",
       "      <td>...</td>\n",
       "    </tr>\n",
       "    <tr>\n",
       "      <th>887</th>\n",
       "      <td>Montvila, Rev. Juozas</td>\n",
       "      <td>211536</td>\n",
       "      <td>NaN</td>\n",
       "    </tr>\n",
       "    <tr>\n",
       "      <th>888</th>\n",
       "      <td>Graham, Miss. Margaret Edith</td>\n",
       "      <td>112053</td>\n",
       "      <td>B42</td>\n",
       "    </tr>\n",
       "    <tr>\n",
       "      <th>889</th>\n",
       "      <td>Johnston, Miss. Catherine Helen \"Carrie\"</td>\n",
       "      <td>W./C. 6607</td>\n",
       "      <td>NaN</td>\n",
       "    </tr>\n",
       "    <tr>\n",
       "      <th>890</th>\n",
       "      <td>Behr, Mr. Karl Howell</td>\n",
       "      <td>111369</td>\n",
       "      <td>C148</td>\n",
       "    </tr>\n",
       "    <tr>\n",
       "      <th>891</th>\n",
       "      <td>Dooley, Mr. Patrick</td>\n",
       "      <td>370376</td>\n",
       "      <td>NaN</td>\n",
       "    </tr>\n",
       "  </tbody>\n",
       "</table>\n",
       "<p>891 rows × 3 columns</p>\n",
       "</div>"
      ],
      "text/plain": [
       "                                                          Name  \\\n",
       "PassengerId                                                      \n",
       "1                                      Braund, Mr. Owen Harris   \n",
       "2            Cumings, Mrs. John Bradley (Florence Briggs Th...   \n",
       "3                                       Heikkinen, Miss. Laina   \n",
       "4                 Futrelle, Mrs. Jacques Heath (Lily May Peel)   \n",
       "5                                     Allen, Mr. William Henry   \n",
       "...                                                        ...   \n",
       "887                                      Montvila, Rev. Juozas   \n",
       "888                               Graham, Miss. Margaret Edith   \n",
       "889                   Johnston, Miss. Catherine Helen \"Carrie\"   \n",
       "890                                      Behr, Mr. Karl Howell   \n",
       "891                                        Dooley, Mr. Patrick   \n",
       "\n",
       "                       Ticket Cabin  \n",
       "PassengerId                          \n",
       "1                   A/5 21171   NaN  \n",
       "2                    PC 17599   C85  \n",
       "3            STON/O2. 3101282   NaN  \n",
       "4                      113803  C123  \n",
       "5                      373450   NaN  \n",
       "...                       ...   ...  \n",
       "887                    211536   NaN  \n",
       "888                    112053   B42  \n",
       "889                W./C. 6607   NaN  \n",
       "890                    111369  C148  \n",
       "891                    370376   NaN  \n",
       "\n",
       "[891 rows x 3 columns]"
      ]
     },
     "execution_count": 51,
     "metadata": {},
     "output_type": "execute_result"
    }
   ],
   "source": [
    "raw_train[['Name','Ticket','Cabin']]"
   ]
  },
  {
   "cell_type": "markdown",
   "id": "accf3823-e107-4937-acd8-ee9c7aa7a819",
   "metadata": {},
   "source": [
    "Idea:  \n",
    "I should drop these three columns with too much unique values and null."
   ]
  },
  {
   "cell_type": "markdown",
   "id": "ee429acd-35c8-47c0-9e45-f0802ce301d1",
   "metadata": {},
   "source": [
    "## b) Data visualizations "
   ]
  },
  {
   "cell_type": "markdown",
   "id": "8ab98d26-6930-427d-9b6e-b8b53eabf60a",
   "metadata": {},
   "source": [
    "### > Unimodal Data Visualizations"
   ]
  },
  {
   "cell_type": "code",
   "execution_count": null,
   "id": "f406a43a-96e7-432e-ae81-29a023a8a75c",
   "metadata": {},
   "outputs": [
    {
     "data": {
      "text/plain": [
       "Index(['Survived', 'Pclass', 'Name', 'Sex', 'Age', 'SibSp', 'Parch', 'Ticket',\n",
       "       'Fare', 'Cabin', 'Embarked'],\n",
       "      dtype='object')"
      ]
     },
     "execution_count": 56,
     "metadata": {},
     "output_type": "execute_result"
    }
   ],
   "source": [
    "train.columns"
   ]
  },
  {
   "cell_type": "code",
   "execution_count": null,
   "id": "59733d79-b89e-4cba-bf41-dc575076de4b",
   "metadata": {},
   "outputs": [
    {
     "data": {
      "image/png": "[encoded data removed]",
      "text/plain": [
       "<Figure size 432x288 with 9 Axes>"
      ]
     },
     "metadata": {
      "needs_background": "light"
     },
     "output_type": "display_data"
    }
   ],
   "source": [
    "train.hist(sharex=False, sharey=False, xlabelsize=1, ylabelsize=1)\n",
    "pyplot.show()"
   ]
  },
  {
   "cell_type": "markdown",
   "id": "0b2f948b-8716-42d4-a42f-4368fa3f4831",
   "metadata": {},
   "source": [
    "Finding:  \n",
    "- discrete distributions:         Survived, Pclass, Embarked, Sex\n",
    "- Gaussian-like distributions :   Age\n",
    "- exponential-like distributions: SibSp, Parch, Fare"
   ]
  },
  {
   "cell_type": "code",
   "execution_count": null,
   "id": "cb7b063c-40a4-41e2-b652-fd23f94c0bb7",
   "metadata": {},
   "outputs": [
    {
     "data": {
      "image/png": "[encoded data removed]",
      "text/plain": [
       "<Figure size 432x288 with 9 Axes>"
      ]
     },
     "metadata": {
      "needs_background": "light"
     },
     "output_type": "display_data"
    }
   ],
   "source": [
    "# density\n",
    "train.plot(kind='density', subplots=True, layout=(3,3), sharex=False, legend=False,\n",
    "fontsize=1)\n",
    "pyplot.show()"
   ]
  },
  {
   "cell_type": "code",
   "execution_count": null,
   "id": "576a6b83-0e09-4843-a212-493f33fec6fe",
   "metadata": {},
   "outputs": [
    {
     "data": {
      "image/png": "[encoded data removed]",
      "text/plain": [
       "<Figure size 1440x360 with 1 Axes>"
      ]
     },
     "metadata": {
      "needs_background": "light"
     },
     "output_type": "display_data"
    }
   ],
   "source": [
    "# box and whisker plots\n",
    "train.boxplot(figsize=(20,5))  \n",
    "pyplot.show()"
   ]
  },
  {
   "cell_type": "markdown",
   "id": "4e6a508d-fb7c-4f15-ba18-af86bda9a5cd",
   "metadata": {},
   "source": [
    "Finding:   \n",
    "Age and fare have particular mean and spred."
   ]
  },
  {
   "cell_type": "markdown",
   "id": "1c85269d-c525-4451-ba45-3543d0db2edd",
   "metadata": {},
   "source": [
    "### > Multimodal Data Visualizations"
   ]
  },
  {
   "cell_type": "code",
   "execution_count": null,
   "id": "010294f8-c172-401d-805e-4b94e1849b77",
   "metadata": {},
   "outputs": [
    {
     "data": {
      "image/png": "[encoded data removed]",
      "text/plain": [
       "<Figure size 576x576 with 64 Axes>"
      ]
     },
     "metadata": {
      "needs_background": "light"
     },
     "output_type": "display_data"
    }
   ],
   "source": [
    "# scatter plot matrix\n",
    "scatter_matrix(train,figsize=(8,8))\n",
    "pyplot.show()"
   ]
  },
  {
   "cell_type": "markdown",
   "id": "1aab5a68-6391-41e2-b8b5-37382e1371e0",
   "metadata": {},
   "source": [
    "It seems like the features have nocorrelation with others"
   ]
  },
  {
   "cell_type": "code",
   "execution_count": null,
   "id": "dbe30b3c-a275-4c33-bdb8-6429c29c577c",
   "metadata": {},
   "outputs": [
    {
     "data": {
      "image/png": "[encoded data removed]",
      "text/plain": [
       "<Figure size 432x288 with 2 Axes>"
      ]
     },
     "metadata": {
      "needs_background": "light"
     },
     "output_type": "display_data"
    }
   ],
   "source": [
    "ax = sns.heatmap(train.corr(),\n",
    "                 vmin=-1, vmax=1,\n",
    "                 annot=True,\n",
    "                 cmap=\"YlGnBu\")"
   ]
  },
  {
   "cell_type": "markdown",
   "id": "74995c19-3426-486f-b383-4d38ed263a2a",
   "metadata": {},
   "source": [
    "It seems like sex survival has a high  correlation with sex and pclass."
   ]
  },
  {
   "cell_type": "markdown",
   "id": "f1383cee-8ff3-46c8-ae7b-8ed8c2b77c61",
   "metadata": {},
   "source": [
    "Let's deep down to Sex"
   ]
  },
  {
   "cell_type": "code",
   "execution_count": null,
   "id": "82f692be-510a-4327-b412-426511faba8f",
   "metadata": {},
   "outputs": [
    {
     "data": {
      "text/html": [
       "<div>\n",
       "<style scoped>\n",
       "    .dataframe tbody tr th:only-of-type {\n",
       "        vertical-align: middle;\n",
       "    }\n",
       "\n",
       "    .dataframe tbody tr th {\n",
       "        vertical-align: top;\n",
       "    }\n",
       "\n",
       "    .dataframe thead th {\n",
       "        text-align: right;\n",
       "    }\n",
       "</style>\n",
       "<table border=\"1\" class=\"dataframe\">\n",
       "  <thead>\n",
       "    <tr style=\"text-align: right;\">\n",
       "      <th></th>\n",
       "      <th></th>\n",
       "      <th>Pclass</th>\n",
       "      <th>Age</th>\n",
       "      <th>SibSp</th>\n",
       "      <th>Parch</th>\n",
       "      <th>Fare</th>\n",
       "      <th>Embarked</th>\n",
       "    </tr>\n",
       "    <tr>\n",
       "      <th>Sex</th>\n",
       "      <th>Survived</th>\n",
       "      <th></th>\n",
       "      <th></th>\n",
       "      <th></th>\n",
       "      <th></th>\n",
       "      <th></th>\n",
       "      <th></th>\n",
       "    </tr>\n",
       "  </thead>\n",
       "  <tbody>\n",
       "    <tr>\n",
       "      <th rowspan=\"2\" valign=\"top\">0</th>\n",
       "      <th>0</th>\n",
       "      <td>81</td>\n",
       "      <td>81</td>\n",
       "      <td>81</td>\n",
       "      <td>81</td>\n",
       "      <td>81</td>\n",
       "      <td>81</td>\n",
       "    </tr>\n",
       "    <tr>\n",
       "      <th>1</th>\n",
       "      <td>231</td>\n",
       "      <td>231</td>\n",
       "      <td>231</td>\n",
       "      <td>231</td>\n",
       "      <td>231</td>\n",
       "      <td>231</td>\n",
       "    </tr>\n",
       "    <tr>\n",
       "      <th rowspan=\"2\" valign=\"top\">1</th>\n",
       "      <th>0</th>\n",
       "      <td>468</td>\n",
       "      <td>468</td>\n",
       "      <td>468</td>\n",
       "      <td>468</td>\n",
       "      <td>468</td>\n",
       "      <td>468</td>\n",
       "    </tr>\n",
       "    <tr>\n",
       "      <th>1</th>\n",
       "      <td>109</td>\n",
       "      <td>109</td>\n",
       "      <td>109</td>\n",
       "      <td>109</td>\n",
       "      <td>109</td>\n",
       "      <td>109</td>\n",
       "    </tr>\n",
       "  </tbody>\n",
       "</table>\n",
       "</div>"
      ],
      "text/plain": [
       "              Pclass  Age  SibSp  Parch  Fare  Embarked\n",
       "Sex Survived                                           \n",
       "0   0             81   81     81     81    81        81\n",
       "    1            231  231    231    231   231       231\n",
       "1   0            468  468    468    468   468       468\n",
       "    1            109  109    109    109   109       109"
      ]
     },
     "execution_count": 138,
     "metadata": {},
     "output_type": "execute_result"
    }
   ],
   "source": [
    "train.groupby(['Sex','Survived']).count()"
   ]
  },
  {
   "cell_type": "markdown",
   "id": "fd48a726-c7c7-451e-afd5-ff00cf7dd883",
   "metadata": {},
   "source": [
    "The survive rate for women is 0.74  \n",
    "The survive rate for men 0.19  \n",
    "Women are more likely to survive."
   ]
  },
  {
   "cell_type": "markdown",
   "id": "f081bc0f-e630-4f80-920a-8cd4d3085196",
   "metadata": {},
   "source": [
    "Let's deep down to Pclass"
   ]
  },
  {
   "cell_type": "code",
   "execution_count": null,
   "id": "eaeac4b5-a163-4241-8aa6-c90574d662be",
   "metadata": {},
   "outputs": [
    {
     "data": {
      "text/plain": [
       "<matplotlib.collections.PathCollection at 0x1f803930c40>"
      ]
     },
     "execution_count": 145,
     "metadata": {},
     "output_type": "execute_result"
    },
    {
     "data": {
      "image/png": "[encoded data removed]",
      "text/plain": [
       "<Figure size 432x288 with 1 Axes>"
      ]
     },
     "metadata": {
      "needs_background": "light"
     },
     "output_type": "display_data"
    }
   ],
   "source": [
    "plt.scatter(x='Pclass',y='Fare',data=train[['Fare','Pclass']],alpha=0.1)"
   ]
  },
  {
   "cell_type": "markdown",
   "id": "8cea7bf7-4e3e-4dd9-a9f5-2e4bda4c9ebe",
   "metadata": {},
   "source": [
    "Pclass1 is the most expensive class, but it have the lesser survivors.  \n",
    "Maybe it's because there are more elder people.  \n",
    "(accoring to the neg rate in matrix)"
   ]
  },
  {
   "cell_type": "markdown",
   "id": "8b174d91-10cc-4bbe-8e3c-2081e28a3bcb",
   "metadata": {},
   "source": [
    "## b) Feature Selection  "
   ]
  },
  {
   "cell_type": "markdown",
   "id": "ca721086-6044-402c-835e-87e78d1b8f03",
   "metadata": {},
   "source": [
    "## c) Data Transforms  "
   ]
  },
  {
   "cell_type": "markdown",
   "id": "6e0f96bf-71f9-485b-aec6-bba58d7d114a",
   "metadata": {
    "tags": []
   },
   "source": [
    "# 3. Prepare Data"
   ]
  },
  {
   "cell_type": "markdown",
   "id": "23198892-0b7d-41a2-b814-6bff26c773ff",
   "metadata": {
    "jp-MarkdownHeadingCollapsed": true,
    "tags": []
   },
   "source": [
    "## a) Data Cleaning  "
   ]
  },
  {
   "cell_type": "code",
   "execution_count": null,
   "id": "681eaddf-2fc7-4e3c-8d39-56ed3aef94c1",
   "metadata": {},
   "outputs": [],
   "source": [
    "train = raw_train.copy()\n",
    "test = raw_test.copy()"
   ]
  },
  {
   "cell_type": "code",
   "execution_count": null,
   "id": "d294e082-045c-43df-8acd-ee4b2d0e91f0",
   "metadata": {},
   "outputs": [],
   "source": [
    "#Encode Sex ['male', 'female']\n",
    "train.Sex = train.Sex.map({'male':1,'female':0})\n",
    "test.Sex = test.Sex.map({'male':1,'female':0})"
   ]
  },
  {
   "cell_type": "code",
   "execution_count": null,
   "id": "6ca91581-0e2b-41f8-b943-c552462e656e",
   "metadata": {},
   "outputs": [],
   "source": [
    "# fill null with mean\n",
    "train.Age.fillna(round(train.Age.mean()),inplace = True)\n",
    "test.Age.fillna(round(test.Age.mean()),inplace = True)\n",
    "test.Fare.fillna(round(test.Fare.mean()),inplace = True)"
   ]
  },
  {
   "cell_type": "code",
   "execution_count": null,
   "id": "002bf470-a4a2-4868-8ba2-322164fa84c4",
   "metadata": {},
   "outputs": [],
   "source": [
    "#drop the row without Embarked\n",
    "train[train.Embarked.isnull()]\n",
    "train.drop(index=[62,830],inplace=True)"
   ]
  },
  {
   "cell_type": "code",
   "execution_count": null,
   "id": "6bb42d8d-e687-4dd1-bca4-76f2a50159ca",
   "metadata": {},
   "outputs": [],
   "source": [
    "#Encode Embark['S', 'C', 'Q']\n",
    "train.Embarked = train.Embarked.map({'S':1,'C':2,'Q':3})\n",
    "test.Embarked = test.Embarked.map({'S':1,'C':2,'Q':3})"
   ]
  },
  {
   "cell_type": "code",
   "execution_count": null,
   "id": "1cb24847-a406-46e3-b1de-7fa2ee42d4d5",
   "metadata": {},
   "outputs": [],
   "source": [
    "#drop Cabin for too many empty values\n",
    "#drop Ticket for too many unique values\n",
    "#drop useless Name \n",
    "train.drop(columns=['Cabin','Ticket','Name'],inplace=True)\n",
    "test.drop(columns=['Cabin','Ticket','Name'],inplace=True)"
   ]
  },
  {
   "cell_type": "markdown",
   "id": "8e2db5a9-3b34-44f0-b97a-09f2ccae34ee",
   "metadata": {},
   "source": [
    "# 4. Evaluate Algorithms "
   ]
  },
  {
   "cell_type": "markdown",
   "id": "83fd0a9f-b076-4710-9e9e-dc2ba473af65",
   "metadata": {},
   "source": [
    " ## a) Split-out validation dataset  "
   ]
  },
  {
   "cell_type": "code",
   "execution_count": null,
   "id": "8d71762f-6bdc-4b2e-8059-4b0b3ffacf2b",
   "metadata": {},
   "outputs": [],
   "source": [
    "# Split-out validation dataset\n",
    "array = train.values\n",
    "X = train.iloc[:,1:]\n",
    "Y = train.iloc[:,0]\n",
    "validation_size = 0.20\n",
    "seed = 7\n",
    "X_train, X_validation, Y_train, Y_validation = train_test_split(X, Y,\n",
    "test_size=validation_size, random_state=seed)"
   ]
  },
  {
   "cell_type": "markdown",
   "id": "44e6b97d-8714-461a-a356-4fd892316acb",
   "metadata": {},
   "source": [
    "## b) Test options and evaluation metric"
   ]
  },
  {
   "cell_type": "code",
   "execution_count": null,
   "id": "215697cc-78a6-40dc-a5cc-b1b3c20490d6",
   "metadata": {},
   "outputs": [],
   "source": [
    "num_folds = 10\n",
    "seed = 7\n",
    "scoring = 'accuracy'"
   ]
  },
  {
   "cell_type": "markdown",
   "id": "52d80aa7-01f3-45ea-a709-4d2282c5aff1",
   "metadata": {},
   "source": [
    "## c) Spot Check Algorithms "
   ]
  },
  {
   "cell_type": "markdown",
   "id": "a5aa0fe3-dac3-4777-bc2a-fd850feab2d9",
   "metadata": {},
   "source": [
    "### > Evaluate Algorithms: Baselin"
   ]
  },
  {
   "cell_type": "markdown",
   "id": "9c7f6ddd-e0e5-46f2-bf45-99bd0dc5a2a3",
   "metadata": {},
   "source": [
    "- Linear Algorithms\n",
    "    - Logistic Regression (LR)\n",
    "    - Linear Discriminant Analysis (LDA).  \n",
    "- Nonlinear Algorithms: \n",
    "    - Classification and Regression Trees (CART)\n",
    "    - Support Vector Machines (SVM)\n",
    "    - Gaussian Naive Bayes (NB)\n",
    "    - k-Nearest Neighbors (KNN)"
   ]
  },
  {
   "cell_type": "code",
   "execution_count": null,
   "id": "4b56ea2a-a295-47c5-927b-a33698cf51f4",
   "metadata": {},
   "outputs": [],
   "source": [
    "models = []\n",
    "#Linear\n",
    "models.append(('LR', LogisticRegression(max_iter=200)))\n",
    "models.append(('LDA', LinearDiscriminantAnalysis()))\n",
    "#NonLinear\n",
    "models.append(('CART', DecisionTreeClassifier()))\n",
    "models.append(('SVM', SVC()))\n",
    "models.append(('NB', GaussianNB()))\n",
    "models.append(('KNN', KNeighborsClassifier()))"
   ]
  },
  {
   "cell_type": "code",
   "execution_count": null,
   "id": "2daf1787-4f74-4b41-a38b-329cf9cabaed",
   "metadata": {},
   "outputs": [
    {
     "name": "stdout",
     "output_type": "stream",
     "text": [
      "LR: 0.793369 (0.039962)\n",
      "LDA: 0.797516 (0.036517)\n",
      "CART: 0.745481 (0.056212)\n",
      "SVM: 0.683372 (0.065435)\n",
      "NB: 0.794679 (0.034449)\n",
      "KNN: 0.694875 (0.048609)\n"
     ]
    }
   ],
   "source": [
    "results = []\n",
    "names = []\n",
    "for name, model in models:\n",
    "    kfold = KFold(n_splits=num_folds, random_state=seed,shuffle=True)\n",
    "    cv_results = cross_val_score(model, X_train, Y_train, cv=kfold, scoring=scoring)\n",
    "    results.append(cv_results)\n",
    "    names.append(name)\n",
    "    msg = \"%s: %f (%f)\" % (name, cv_results.mean(), cv_results.std())\n",
    "    print(msg)"
   ]
  },
  {
   "cell_type": "markdown",
   "id": "cc36255a-ac5c-43c3-96c8-12bedf8dca8a",
   "metadata": {},
   "source": [
    "## d) Compare Algorithms"
   ]
  },
  {
   "cell_type": "code",
   "execution_count": null,
   "id": "036ce51c-0725-4a2c-8826-44b360814640",
   "metadata": {},
   "outputs": [
    {
     "data": {
      "image/png": "[encoded data removed]",
      "text/plain": [
       "<Figure size 432x288 with 1 Axes>"
      ]
     },
     "metadata": {
      "needs_background": "light"
     },
     "output_type": "display_data"
    }
   ],
   "source": [
    "fig = plt.figure()\n",
    "fig.suptitle('Scaled Algorithm Comparison')\n",
    "ax = fig.add_subplot(111)\n",
    "plt.boxplot(results)\n",
    "ax.set_xticklabels(names)\n",
    "plt.show()"
   ]
  },
  {
   "cell_type": "markdown",
   "id": "453f64b2-57f6-40d7-a12d-c0c278a1780b",
   "metadata": {},
   "source": [
    "It is possible that the varied distribution of the attributes is having an effect on the accuracy of algorithms such as SVM and KNN."
   ]
  },
  {
   "cell_type": "markdown",
   "id": "a77ad03d-a660-498d-b8b7-91f801527451",
   "metadata": {},
   "source": [
    "### > Try scaling"
   ]
  },
  {
   "cell_type": "code",
   "execution_count": null,
   "id": "0b803864-a902-4bcc-8803-64194ad1097b",
   "metadata": {},
   "outputs": [],
   "source": [
    "pipelines = []\n",
    "#Linear\n",
    "pipelines.append(('ScaledLR', Pipeline([('Scaler', StandardScaler()),('LR',\n",
    "LogisticRegression())])))\n",
    "pipelines.append(('ScaledLDA', Pipeline([('Scaler', StandardScaler()),('LDA',\n",
    "LinearDiscriminantAnalysis())])))\n",
    "#NonLinear\n",
    "pipelines.append(('ScaledCART', Pipeline([('Scaler', StandardScaler()),('CART',\n",
    "DecisionTreeClassifier())])))\n",
    "pipelines.append(('ScaledSVM', Pipeline([('Scaler', StandardScaler()),('SVM', SVC())])))\n",
    "pipelines.append(('ScaledNB', Pipeline([('Scaler', StandardScaler()),('NB',\n",
    "GaussianNB())])))\n",
    "pipelines.append(('ScaledKNN', Pipeline([('Scaler', StandardScaler()),('KNN',\n",
    "KNeighborsClassifier())])))"
   ]
  },
  {
   "cell_type": "code",
   "execution_count": null,
   "id": "fda2fd00-a8e2-4a98-b7b4-e4a8a2645c21",
   "metadata": {},
   "outputs": [
    {
     "name": "stdout",
     "output_type": "stream",
     "text": [
      "ScaledLR: 0.796185 (0.039028)\n",
      "ScaledLDA: 0.797516 (0.036517)\n",
      "ScaledCART: 0.741295 (0.055550)\n",
      "ScaledSVM: 0.812950 (0.037756)\n",
      "ScaledNB: 0.794679 (0.034449)\n",
      "ScaledKNN: 0.791901 (0.047566)\n"
     ]
    }
   ],
   "source": [
    "results = []\n",
    "names = []\n",
    "for name, model in pipelines:\n",
    "    kfold = KFold(n_splits=num_folds, random_state=seed,shuffle=True)\n",
    "    cv_results = cross_val_score(model, X_train, Y_train, cv=kfold, scoring=scoring)\n",
    "    results.append(cv_results)\n",
    "    names.append(name)\n",
    "    msg = \"%s: %f (%f)\" % (name, cv_results.mean(), cv_results.std())\n",
    "    print(msg)"
   ]
  },
  {
   "cell_type": "code",
   "execution_count": null,
   "id": "a572f919-5b8f-49f2-8238-3b56429c5038",
   "metadata": {},
   "outputs": [
    {
     "data": {
      "image/png": "[encoded data removed]",
      "text/plain": [
       "<Figure size 432x288 with 1 Axes>"
      ]
     },
     "metadata": {
      "needs_background": "light"
     },
     "output_type": "display_data"
    }
   ],
   "source": [
    "# Compare Algorithms\n",
    "fig = plt.figure()\n",
    "fig.suptitle('Scaled Algorithm Comparison')\n",
    "ax = fig.add_subplot(111)\n",
    "plt.boxplot(results)\n",
    "ax.set_xticklabels(names)\n",
    "plt.show()"
   ]
  },
  {
   "cell_type": "markdown",
   "id": "4d16a4af-75cd-41a6-bf29-9bf9de33357d",
   "metadata": {},
   "source": [
    "Both SVM and KNN aregtreatly improve by Scaling."
   ]
  },
  {
   "cell_type": "markdown",
   "id": "53b7b1ed-fb14-44cd-b922-20022181ce98",
   "metadata": {},
   "source": [
    "# 5. Improve Accuracy  "
   ]
  },
  {
   "cell_type": "markdown",
   "id": "a60abbb7-4073-46ca-9dfd-39302924dc52",
   "metadata": {},
   "source": [
    "## a) Algorithm Tuning  "
   ]
  },
  {
   "cell_type": "markdown",
   "id": "5ee2d708-e894-480a-ba7d-058bf81d28d1",
   "metadata": {},
   "source": [
    "### >Tuning KNN"
   ]
  },
  {
   "cell_type": "markdown",
   "id": "662ae611-2a0a-4ef9-8496-badf4d9bc8cd",
   "metadata": {},
   "source": [
    "I can start off by tuning the number of neighbors for KNN.  \n",
    "\n",
    "The default number of neighbors is 7. \n",
    "Below we try all odd values of k from 1 to 21, covering the default value of 7. \n",
    "\n",
    "Each k value is evaluated using 10-fold cross validation on the training standardized dataset."
   ]
  },
  {
   "cell_type": "code",
   "execution_count": null,
   "id": "e0438e7e-6b51-4fb4-88c9-8fb4b850e732",
   "metadata": {},
   "outputs": [
    {
     "name": "stdout",
     "output_type": "stream",
     "text": [
      "Best: 0.804538 using {'n_neighbors': 7}\n"
     ]
    }
   ],
   "source": [
    "# Tune scaled KNN\n",
    "scaler = StandardScaler().fit(X_train)\n",
    "rescaledX = scaler.transform(X_train)\n",
    "neighbors = [1,3,5,7,9,11,13,15,17,19,21]\n",
    "param_grid = dict(n_neighbors=neighbors)\n",
    "model = KNeighborsClassifier()\n",
    "kfold = KFold(n_splits=num_folds, random_state=seed,shuffle=True)\n",
    "grid = GridSearchCV(estimator=model, param_grid=param_grid, scoring=scoring, cv=kfold)\n",
    "grid_result = grid.fit(rescaledX, Y_train)\n",
    "print(\"Best: %f using %s\" % (grid_result.best_score_, grid_result.best_params_))"
   ]
  },
  {
   "cell_type": "markdown",
   "id": "7325b20a-a968-42e0-afd8-3e9dec6a39d0",
   "metadata": {},
   "source": [
    "### >Tuning SVM"
   ]
  },
  {
   "cell_type": "markdown",
   "id": "a320642b-08ff-402d-9b9f-e268a63ba24e",
   "metadata": {},
   "source": [
    "I can tune two key parameters of the SVM algorithm, the value of C (how much to relax the margin) and the type of kernel. \n",
    "\n",
    "The default for SVM (the SVC class) is to use the Radial Basis Function (RBF) kernel with a C value set to 1.0.\n",
    "\n",
    "Like with KNN, we will perform a grid search using 10-fold cross validation with a standardized copy of the training dataset. \n",
    "\n",
    " We will try a number of simpler kernel types and C values with less bias and more bias (less than and more than 1.0 respectively)."
   ]
  },
  {
   "cell_type": "code",
   "execution_count": null,
   "id": "0167b726-bbf0-4eb3-8801-2c2e0f6ab234",
   "metadata": {},
   "outputs": [
    {
     "name": "stdout",
     "output_type": "stream",
     "text": [
      "Best: 0.818584 using {'C': 2.0, 'kernel': 'rbf'}\n"
     ]
    }
   ],
   "source": [
    "# Tune scaled SVM\n",
    "scaler = StandardScaler().fit(X_train)\n",
    "rescaledX = scaler.transform(X_train)\n",
    "c_values = [0.1, 0.3, 0.5, 0.7, 0.9, 1.0, 1.3, 1.5, 1.7, 2.0]\n",
    "kernel_values = ['linear', 'poly', 'rbf', 'sigmoid']\n",
    "param_grid = dict(C=c_values, kernel=kernel_values)\n",
    "model = SVC()\n",
    "kfold = KFold(n_splits=num_folds, random_state=seed,shuffle=True)\n",
    "grid = GridSearchCV(estimator=model, param_grid=param_grid, scoring=scoring, cv=kfold)\n",
    "grid_result = grid.fit(rescaledX, Y_train)\n",
    "print(\"Best: %f using %s\" % (grid_result.best_score_, grid_result.best_params_))"
   ]
  },
  {
   "cell_type": "markdown",
   "id": "636dd16f-b404-4495-a857-e7ff18fb7e6a",
   "metadata": {},
   "source": [
    "The accuracy 81.8% is seemingly better than what KNN could achieve"
   ]
  },
  {
   "cell_type": "markdown",
   "id": "48b5b4e1-8696-428c-8ba7-f05942fa2449",
   "metadata": {},
   "source": [
    "### >Tuning CART"
   ]
  },
  {
   "cell_type": "markdown",
   "id": "2ac0786e-efcb-471c-9bde-8ec235b23ca1",
   "metadata": {},
   "source": [
    "Some important features to tune with original training set (without scaling)  \n",
    "1. criterion: the function to measure the quality of a split ,default=”gini”  \n",
    "2. max_depth, default=None  \n",
    "3. min_samples_leaf, default=2  "
   ]
  },
  {
   "cell_type": "code",
   "execution_count": null,
   "id": "8f15290a-1248-4d30-8982-9d91b2d93bfa",
   "metadata": {},
   "outputs": [],
   "source": [
    "param_grid = {\n",
    "    'max_depth': [2, 3, 4, 5, 10, 20],\n",
    "    'min_samples_leaf': [0.1, 0.5 , 1, 2, 3, 4, 5,10],\n",
    "    'criterion': [\"gini\", \"entropy\"]\n",
    "}"
   ]
  },
  {
   "cell_type": "code",
   "execution_count": null,
   "id": "020cf716-07cc-4938-9ffe-49e07d81e2f1",
   "metadata": {},
   "outputs": [
    {
     "name": "stdout",
     "output_type": "stream",
     "text": [
      "Best: 0.820051 using {'criterion': 'gini', 'max_depth': 3, 'min_samples_leaf': 1}\n"
     ]
    }
   ],
   "source": [
    "# Tune scaled SVM\n",
    "scaler = StandardScaler().fit(X_train)\n",
    "rescaledX = scaler.transform(X_train)\n",
    "model = DecisionTreeClassifier()\n",
    "kfold = KFold(n_splits=num_folds, random_state=seed,shuffle=True)\n",
    "grid = GridSearchCV(estimator=model, param_grid=param_grid, scoring=scoring, cv=kfold)\n",
    "grid_result = grid.fit(rescaledX, Y_train)\n",
    "print(\"Best: %f using %s\" % (grid_result.best_score_, grid_result.best_params_))"
   ]
  },
  {
   "cell_type": "markdown",
   "id": "4a02aba2-aa88-44a7-88c9-9beeae3058cb",
   "metadata": {},
   "source": [
    "This is the highest accuracy from now."
   ]
  },
  {
   "cell_type": "markdown",
   "id": "4ab757ed-e81d-4e1c-84aa-5e66eb078c1d",
   "metadata": {},
   "source": [
    "## b) Ensembles  "
   ]
  },
  {
   "cell_type": "markdown",
   "id": "e9b6432a-0e7f-4123-8f7f-c2926cfa9830",
   "metadata": {},
   "source": [
    "Another way that we can improve the performance of algorithms on this problem is by using ensemble methods.\n",
    "\n",
    " In this section we will evaluate four different ensemble machine learning algorithms, two boosting and two bagging methods:"
   ]
  },
  {
   "cell_type": "markdown",
   "id": "4c9cd602-c56b-4087-92c4-c616dbd8e4b3",
   "metadata": {},
   "source": [
    "- Boosting Methods: \n",
    "    - AdaBoost (AB)  \n",
    "    - Gradient Boosting (GBM)  \n",
    "- Bagging Methods\n",
    "    - Random Forests (RF)  \n",
    "    - Extra Trees (ET)."
   ]
  },
  {
   "cell_type": "code",
   "execution_count": null,
   "id": "ede87228-3f56-462e-9ecb-1e2c1e752e9d",
   "metadata": {},
   "outputs": [
    {
     "name": "stdout",
     "output_type": "stream",
     "text": [
      "AB: 0.796127 (0.038522)\n",
      "GBM: 0.806045 (0.049891)\n",
      "RF: 0.793310 (0.061797)\n",
      "ET: 0.775039 (0.056662)\n"
     ]
    }
   ],
   "source": [
    "# ensembles\n",
    "ensembles = []\n",
    "ensembles.append(('AB', AdaBoostClassifier()))\n",
    "ensembles.append(('GBM', GradientBoostingClassifier()))\n",
    "ensembles.append(('RF', RandomForestClassifier()))\n",
    "ensembles.append(('ET', ExtraTreesClassifier()))\n",
    "results = []\n",
    "names = []\n",
    "for name, model in ensembles:\n",
    "    kfold = KFold(n_splits=num_folds, random_state=seed,shuffle=True)\n",
    "    cv_results = cross_val_score(model, X_train, Y_train, cv=kfold, scoring=scoring)\n",
    "    results.append(cv_results)\n",
    "    names.append(name)\n",
    "    msg = \"%s: %f (%f)\" % (name, cv_results.mean(), cv_results.std())\n",
    "    print(msg)"
   ]
  },
  {
   "cell_type": "code",
   "execution_count": null,
   "id": "d03f0474-62cb-4da3-b6d8-cfc9cdc2395a",
   "metadata": {},
   "outputs": [
    {
     "data": {
      "image/png": "[encoded data removed]",
      "text/plain": [
       "<Figure size 432x288 with 1 Axes>"
      ]
     },
     "metadata": {
      "needs_background": "light"
     },
     "output_type": "display_data"
    }
   ],
   "source": [
    "# Compare Algorithms\n",
    "fig = plt.figure()\n",
    "fig.suptitle('Ensemble Algorithm Comparison')\n",
    "ax = fig.add_subplot(111)\n",
    "plt.boxplot(results)\n",
    "ax.set_xticklabels(names)\n",
    "plt.show()"
   ]
  },
  {
   "cell_type": "markdown",
   "id": "16d561c4-eefe-4c59-9c41-faae49384981",
   "metadata": {},
   "source": [
    "We can see that both baggting techniques provide strong accuracy scores in the low 80s (%) with default configurations. "
   ]
  },
  {
   "cell_type": "markdown",
   "id": "d6b0a195-0ae4-46ad-a8f1-52d7620c4613",
   "metadata": {
    "jp-MarkdownHeadingCollapsed": true,
    "tags": []
   },
   "source": [
    "# 6. Finalize Model  "
   ]
  },
  {
   "cell_type": "code",
   "execution_count": null,
   "id": "4e5689f0-2a14-4f1a-8914-3b97f234752c",
   "metadata": {},
   "outputs": [
    {
     "name": "stdout",
     "output_type": "stream",
     "text": [
      "0.8258426966292135\n",
      "[[97 12]\n",
      " [19 50]]\n",
      "              precision    recall  f1-score   support\n",
      "\n",
      "           0       0.84      0.89      0.86       109\n",
      "           1       0.81      0.72      0.76        69\n",
      "\n",
      "    accuracy                           0.83       178\n",
      "   macro avg       0.82      0.81      0.81       178\n",
      "weighted avg       0.82      0.83      0.82       178\n",
      "\n"
     ]
    }
   ],
   "source": [
    "# prepare the model\n",
    "model = DecisionTreeClassifier(criterion= 'gini', max_depth=3, min_samples_leaf=1)\n",
    "model.fit(solution = clf.predict(sim_test), Y_train)\n",
    "# estimate accuracy on validation dataset\n",
    "predictions = model.predict(X_validation)\n",
    "print(accuracy_score(Y_validation, predictions))\n",
    "print(confusion_matrix(Y_validation, predictions))\n",
    "print(classification_report(Y_validation, predictions))"
   ]
  },
  {
   "cell_type": "code",
   "execution_count": null,
   "id": "1da81ac2-9d20-4fb6-85b7-1f85da650562",
   "metadata": {},
   "outputs": [],
   "source": [
    "pred = model.predict(test)"
   ]
  },
  {
   "cell_type": "code",
   "execution_count": null,
   "id": "984d4e52-3767-4ae2-ba16-4251d07aecc6",
   "metadata": {},
   "outputs": [],
   "source": [
    "solution = pd.DataFrame({'PassengerId':test.index,\n",
    "                           'Survived': pred})"
   ]
  },
  {
   "cell_type": "code",
   "execution_count": null,
   "id": "87db916e-0e15-4654-8e79-e63356e08210",
   "metadata": {},
   "outputs": [
    {
     "data": {
      "text/html": [
       "<div>\n",
       "<style scoped>\n",
       "    .dataframe tbody tr th:only-of-type {\n",
       "        vertical-align: middle;\n",
       "    }\n",
       "\n",
       "    .dataframe tbody tr th {\n",
       "        vertical-align: top;\n",
       "    }\n",
       "\n",
       "    .dataframe thead th {\n",
       "        text-align: right;\n",
       "    }\n",
       "</style>\n",
       "<table border=\"1\" class=\"dataframe\">\n",
       "  <thead>\n",
       "    <tr style=\"text-align: right;\">\n",
       "      <th></th>\n",
       "      <th>PassengerId</th>\n",
       "      <th>Survived</th>\n",
       "    </tr>\n",
       "  </thead>\n",
       "  <tbody>\n",
       "    <tr>\n",
       "      <th>0</th>\n",
       "      <td>892</td>\n",
       "      <td>0</td>\n",
       "    </tr>\n",
       "    <tr>\n",
       "      <th>1</th>\n",
       "      <td>893</td>\n",
       "      <td>1</td>\n",
       "    </tr>\n",
       "    <tr>\n",
       "      <th>2</th>\n",
       "      <td>894</td>\n",
       "      <td>0</td>\n",
       "    </tr>\n",
       "    <tr>\n",
       "      <th>3</th>\n",
       "      <td>895</td>\n",
       "      <td>0</td>\n",
       "    </tr>\n",
       "    <tr>\n",
       "      <th>4</th>\n",
       "      <td>896</td>\n",
       "      <td>1</td>\n",
       "    </tr>\n",
       "    <tr>\n",
       "      <th>...</th>\n",
       "      <td>...</td>\n",
       "      <td>...</td>\n",
       "    </tr>\n",
       "    <tr>\n",
       "      <th>413</th>\n",
       "      <td>1305</td>\n",
       "      <td>0</td>\n",
       "    </tr>\n",
       "    <tr>\n",
       "      <th>414</th>\n",
       "      <td>1306</td>\n",
       "      <td>1</td>\n",
       "    </tr>\n",
       "    <tr>\n",
       "      <th>415</th>\n",
       "      <td>1307</td>\n",
       "      <td>0</td>\n",
       "    </tr>\n",
       "    <tr>\n",
       "      <th>416</th>\n",
       "      <td>1308</td>\n",
       "      <td>0</td>\n",
       "    </tr>\n",
       "    <tr>\n",
       "      <th>417</th>\n",
       "      <td>1309</td>\n",
       "      <td>0</td>\n",
       "    </tr>\n",
       "  </tbody>\n",
       "</table>\n",
       "<p>418 rows × 2 columns</p>\n",
       "</div>"
      ],
      "text/plain": [
       "     PassengerId  Survived\n",
       "0            892         0\n",
       "1            893         1\n",
       "2            894         0\n",
       "3            895         0\n",
       "4            896         1\n",
       "..           ...       ...\n",
       "413         1305         0\n",
       "414         1306         1\n",
       "415         1307         0\n",
       "416         1308         0\n",
       "417         1309         0\n",
       "\n",
       "[418 rows x 2 columns]"
      ]
     },
     "execution_count": 85,
     "metadata": {},
     "output_type": "execute_result"
    }
   ],
   "source": [
    "solution"
   ]
  },
  {
   "cell_type": "code",
   "execution_count": null,
   "id": "7df98a14-a85e-49ec-adad-668ecfa2dcd0",
   "metadata": {},
   "outputs": [],
   "source": [
    "solution.to_csv('submission2.csv',index=False)"
   ]
  },
  {
   "cell_type": "code",
   "execution_count": null,
   "id": "9517b2d1-da38-4aca-bb6d-8b350256804b",
   "metadata": {},
   "outputs": [
    {
     "name": "stdout",
     "output_type": "stream",
     "text": [
      "Successfully submitted to Titanic - Machine Learning from Disaster\n"
     ]
    },
    {
     "name": "stderr",
     "output_type": "stream",
     "text": [
      "\n",
      "  0%|          | 0.00/3.18k [00:00<?, ?B/s]\n",
      "100%|██████████| 3.18k/3.18k [00:07<00:00, 425B/s]\n"
     ]
    }
   ],
   "source": [
    "!kaggle competitions submit -c titanic -f submission2.csv -m \"Message\""
   ]
  },
  {
   "cell_type": "markdown",
   "id": "b3c0a4d5-0506-4b18-8f26-2159b44c73ae",
   "metadata": {},
   "source": [
    "# 7. Opportunities for extensions\n",
    "I would or could explore if you had another month or year to deep dive on the project."
   ]
  },
  {
   "cell_type": "markdown",
   "id": "de90f0c5-4051-4c29-aa96-d09dd122bbd9",
   "metadata": {},
   "source": [
    "1. More spot-check:  \n",
    "    Models perform similarly after standardization, so I will put more time on tuning to find better model options to dig into.    \n",
    "      \n",
    "2. Test variations on Decision Tree Classifier:  \n",
    "    Since Decision Tree Classifier perform well, so I will put more time tuning varants like Random forest and Boosted tree.  \n",
    "      \n",
    "3. Research under and overfitting:  \n",
    "    I didn't do it this time."
   ]
  }
 ],
 "metadata": {
  "jupytext": {
   "cell_metadata_filter": "-all",
   "notebook_metadata_filter": "-all"
  },
  "kernelspec": {
   "display_name": "Python 3 (ipykernel)",
   "language": "python",
   "name": "python3"
  },
  "language_info": {
   "codemirror_mode": {
    "name": "ipython",
    "version": 3
   },
   "file_extension": ".py",
   "mimetype": "text/x-python",
   "name": "python",
   "nbconvert_exporter": "python",
   "pygments_lexer": "ipython3",
   "version": "3.9.7"
  }
 },
 "nbformat": 4,
 "nbformat_minor": 5
}
